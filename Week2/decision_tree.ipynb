{
 "cells": [
  {
   "cell_type": "markdown",
   "metadata": {},
   "source": [
    "root(decision_node) -> split based on info gain to two more nodes\n",
    "\n",
    "what is needed to build a tree:\n",
    "\n",
    "1. metric --> entropy\n",
    "2. info_gain --> maximize the change of entropy before and after the split to optimize the tree.\n",
    "3. split the node.\n",
    "4. Question --> A node is splitted based on the question asked.\n",
    "5. Leaf --> The end node (where no more info gained).\n",
    "6. Node --> a question can be asked to further lower and info gain and split into more nodes or leaves.\n",
    "7. predict --> a way to predict new instance based on the trained model.\n",
    "8. visualization --> a way to visualize the decision tree."
   ]
  },
  {
   "cell_type": "markdown",
   "metadata": {},
   "source": [
    "### First, make a test dataset for code testing."
   ]
  },
  {
   "cell_type": "code",
   "execution_count": 1,
   "metadata": {},
   "outputs": [],
   "source": [
    "training_data = [\n",
    "    ['Green', 3, 'Apple'],\n",
    "    ['Yellow', 3, 'Apple'],\n",
    "    ['Red', 1, 'Grape'],\n",
    "    ['Red', 1, 'Grape'],\n",
    "    ['Yellow', 3, 'Lemon'],\n",
    "]\n",
    "\n",
    "# A list or numpy array does not have a header, so for demonstration purpose, I manually added a header.\n",
    "header = [\"color\", \"diameter\", \"label\"]"
   ]
  },
  {
   "cell_type": "markdown",
   "metadata": {},
   "source": [
    "### Make a Question class. \n",
    "The reason why I made it a class is because a class can be considered as a datatype, and can be easily passed into other functions as arugment."
   ]
  },
  {
   "cell_type": "code",
   "execution_count": 22,
   "metadata": {},
   "outputs": [],
   "source": [
    "class Question:\n",
    "    def __init__(self, column_number, feature):\n",
    "        self.column_number = column_number\n",
    "        self.feature = feature\n",
    "    \n",
    "    def __str__(self):\n",
    "        condition = '=='\n",
    "        if Question.is_numeric(self.feature):\n",
    "            condition = '>='\n",
    "        return \"Is {} {} {}\".format(header[self.column_number], condition, self.feature)\n",
    "    \n",
    "    def ask(self, row):\n",
    "        feature = row[self.column_number]\n",
    "        if Question.is_numeric(feature):\n",
    "            return feature >= self.feature\n",
    "        else:\n",
    "            return feature == self.feature\n",
    "\n",
    "    @staticmethod\n",
    "    def is_numeric(x):\n",
    "        if isinstance(x, int) or isinstance(x, float):\n",
    "            return True\n",
    "        return False"
   ]
  },
  {
   "cell_type": "code",
   "execution_count": 27,
   "metadata": {},
   "outputs": [
    {
     "name": "stdout",
     "output_type": "stream",
     "text": [
      "True\n",
      "Is color == Red\n"
     ]
    }
   ],
   "source": [
    "q = Question(0, 'Red')\n",
    "print(q.ask(['Red', 4, 'Apple']))\n",
    "print(q)"
   ]
  },
  {
   "cell_type": "code",
   "execution_count": null,
   "metadata": {},
   "outputs": [],
   "source": []
  }
 ],
 "metadata": {
  "kernelspec": {
   "display_name": "Python 3",
   "language": "python",
   "name": "python3"
  },
  "language_info": {
   "codemirror_mode": {
    "name": "ipython",
    "version": 3
   },
   "file_extension": ".py",
   "mimetype": "text/x-python",
   "name": "python",
   "nbconvert_exporter": "python",
   "pygments_lexer": "ipython3",
   "version": "3.6.4"
  }
 },
 "nbformat": 4,
 "nbformat_minor": 2
}
